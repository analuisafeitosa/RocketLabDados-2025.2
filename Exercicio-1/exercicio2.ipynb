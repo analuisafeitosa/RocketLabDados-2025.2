{
 "cells": [
  {
   "cell_type": "code",
   "execution_count": 0,
   "metadata": {
    "application/vnd.databricks.v1+cell": {
     "cellMetadata": {
      "byteLimit": 2048000,
      "rowLimit": 10000
     },
     "inputWidgets": {},
     "nuid": "bd0fe150-ae52-4b84-adf6-693c9507647e",
     "showTitle": false,
     "tableResultSettingsMap": {},
     "title": ""
    }
   },
   "outputs": [],
   "source": [
    "from pyspark.sql import SparkSession\n",
    "from pyspark.sql import functions as F\n",
    "#criando a sessão spark\n",
    "spark = SparkSession.builder.appName(\"Exercicio2\").getOrCreate()\n",
    "\n",
    "#leitura de data frame\n",
    "fut_players = spark.table(\"workspace.default.fut_players_data\")\n",
    "fut_players.printSchema()\n",
    "\n",
    "display(fut_players.limit(5)) #nos mostra somente os 5 primeiros"
   ]
  },
  {
   "cell_type": "code",
   "execution_count": 0,
   "metadata": {
    "application/vnd.databricks.v1+cell": {
     "cellMetadata": {
      "byteLimit": 2048000,
      "rowLimit": 10000
     },
     "inputWidgets": {},
     "nuid": "364584d9-4d1c-421c-ac4f-06d2a5a05b07",
     "showTitle": false,
     "tableResultSettingsMap": {},
     "title": ""
    }
   },
   "outputs": [],
   "source": [
    "from pyspark.sql import functions as F\n",
    "\n",
    "country_avg_overall = fut_players.groupBy(\"nationality\").agg(F.mean(\"overall\").alias(\"avg_overall\"))   \n",
    "\n",
    "# Retornar a nacionalidade com maior overall médio e o overall médio do brasil\n",
    "melhor = (\n",
    "    country_avg_overall\n",
    "    .orderBy(F.col(\"avg_overall\").desc())\n",
    "    .limit(1)\n",
    "    .collect()[0]\n",
    ")\n",
    "\n",
    "brasil = (\n",
    "    country_avg_overall\n",
    "    .filter(F.col(\"nationality\") == \"Brazil\")\n",
    "    .collect()[0]\n",
    ")\n",
    "\n",
    "display({\n",
    "    \"Melhor overall médio\": f\"{melhor['nationality']}: {melhor['avg_overall']:.2f}\",\n",
    "    \"Overall médio do Brasil\": round(brasil['avg_overall'], 2)\n",
    "})"
   ]
  }
 ],
 "metadata": {
  "application/vnd.databricks.v1+notebook": {
   "computePreferences": null,
   "dashboards": [],
   "environmentMetadata": {
    "base_environment": "",
    "environment_version": "4"
   },
   "inputWidgetPreferences": null,
   "language": "python",
   "notebookMetadata": {
    "pythonIndentUnit": 4
   },
   "notebookName": "exercicio2",
   "widgets": {}
  },
  "language_info": {
   "name": "python"
  }
 },
 "nbformat": 4,
 "nbformat_minor": 0
}
