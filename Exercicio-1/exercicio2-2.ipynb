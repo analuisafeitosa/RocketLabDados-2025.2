{
 "cells": [
  {
   "cell_type": "code",
   "execution_count": 0,
   "metadata": {
    "application/vnd.databricks.v1+cell": {
     "cellMetadata": {
      "byteLimit": 2048000,
      "rowLimit": 10000
     },
     "inputWidgets": {},
     "nuid": "441e08ff-1b5d-44f4-8196-7b1cf460e0d5",
     "showTitle": false,
     "tableResultSettingsMap": {},
     "title": ""
    }
   },
   "outputs": [],
   "source": [
    "from pyspark.sql import SparkSession\n",
    "from pyspark.sql import functions as F\n",
    "#criando a sessão spark\n",
    "spark = SparkSession.builder.appName(\"Exercicio2\").getOrCreate()\n",
    "\n",
    "#leitura de data frame\n",
    "fut_players = spark.table(\"workspace.default.fut_players_data\")\n",
    "fut_players.printSchema()\n",
    "\n",
    "display(fut_players.limit(5)) #nos mostra somente os 5 primeiros"
   ]
  },
  {
   "cell_type": "code",
   "execution_count": 0,
   "metadata": {
    "application/vnd.databricks.v1+cell": {
     "cellMetadata": {
      "byteLimit": 2048000,
      "rowLimit": 10000
     },
     "inputWidgets": {},
     "nuid": "2b85c758-e851-4e17-9243-8e3a41e5aa34",
     "showTitle": false,
     "tableResultSettingsMap": {
      "0": {
       "dataGridStateBlob": "{\"version\":1,\"tableState\":{\"columnPinning\":{\"left\":[\"#row_number#\"],\"right\":[]},\"columnSizing\":{},\"columnVisibility\":{}},\"settings\":{\"columns\":{}},\"syncTimestamp\":1761936692743}",
       "filterBlob": null,
       "queryPlanFiltersBlob": null,
       "tableResultIndex": 0
      }
     },
     "title": ""
    }
   },
   "outputs": [],
   "source": [
    "\"\"\"\n",
    "    Através do overall do jogador retorne a classificação conforme a seguir:\n",
    "    Overall -> classification\n",
    "    -50     -> \"Amador\"\n",
    "    51-60   -> \"Ruim\"\n",
    "    61-70   -> \"Ok\"\n",
    "    71-80   -> \"Bom\"\n",
    "    81-90   -> \"Ótimo\"\n",
    "    91+     -> \"Lenda\"\n",
    "    \n",
    "    I: int overall\n",
    "    O: string\n",
    "\"\"\"\n",
    "logica_de_classi = ( F.when(F.col('overall') <= 50, 'Amador')\n",
    "    .when((F.col('overall') > 50) & (F.col('overall') <= 60), 'Ruim')\n",
    "    .when((F.col('overall') > 60) & (F.col('overall') <= 70), 'Ok')\n",
    "    .when((F.col('overall') > 70) & (F.col('overall') <= 80), 'Bom')\n",
    "    .when((F.col('overall') > 80) & (F.col('overall') <= 90), 'Otimo')\n",
    "    .otherwise('Lenda'))\n",
    "\n",
    "\n",
    "# Dica utilize as clasulas when e otherwise\n",
    "fut_players = (fut_players\n",
    "               .select('player_id', 'overall')\n",
    "               .withColumn('classification', logica_de_classi )\n",
    "               )\n",
    "\n",
    "# Contar quantos jogadores há em cada classificação\n",
    "fut_players.groupBy(\"classification\").count().orderBy(\"count\", ascending=False).display()"
   ]
  }
 ],
 "metadata": {
  "application/vnd.databricks.v1+notebook": {
   "computePreferences": null,
   "dashboards": [],
   "environmentMetadata": {
    "base_environment": "",
    "environment_version": "4"
   },
   "inputWidgetPreferences": null,
   "language": "python",
   "notebookMetadata": {
    "pythonIndentUnit": 4
   },
   "notebookName": "exercicio2-2",
   "widgets": {}
  },
  "language_info": {
   "name": "python"
  }
 },
 "nbformat": 4,
 "nbformat_minor": 0
}
