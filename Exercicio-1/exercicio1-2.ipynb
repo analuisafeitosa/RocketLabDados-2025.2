{
 "cells": [
  {
   "cell_type": "code",
   "execution_count": 0,
   "metadata": {
    "application/vnd.databricks.v1+cell": {
     "cellMetadata": {
      "byteLimit": 2048000,
      "rowLimit": 10000
     },
     "inputWidgets": {},
     "nuid": "d203ebc6-43a6-4b10-99d2-abbe7ada7f6d",
     "showTitle": false,
     "tableResultSettingsMap": {},
     "title": ""
    }
   },
   "outputs": [],
   "source": [
    "from pyspark.sql import SparkSession\n",
    "from pyspark.sql import functions as F\n",
    "#criando a sessão spark\n",
    "spark = SparkSession.builder.appName(\"Exercicio1\").getOrCreate()\n",
    "\n",
    "#leitura de data frame\n",
    "fut_players = spark.table(\"workspace.default.fut_players_data\")\n",
    "fut_players.printSchema()\n",
    "\n",
    "display(fut_players.limit(5)) #nos mostra somente os 5 primeiros"
   ]
  },
  {
   "cell_type": "code",
   "execution_count": 0,
   "metadata": {
    "application/vnd.databricks.v1+cell": {
     "cellMetadata": {
      "byteLimit": 2048000,
      "rowLimit": 10000
     },
     "inputWidgets": {},
     "nuid": "dc1b220c-f24d-4352-b3f6-441c874f2fae",
     "showTitle": false,
     "tableResultSettingsMap": {},
     "title": ""
    }
   },
   "outputs": [],
   "source": [
    "# Aplique os filtros para retornar os jogadores the bests\n",
    "the_best = (fut_players\n",
    "                   .select('player_id','overall', 'position','dribbling','shooting')\n",
    "                   .where((F.col('dribbling') > 90) & (F.col('shooting') > 90))\n",
    "                   )\n",
    "\n",
    "\n",
    "# nationalities é um DataDrame da nacionalidade dos jogadores\n",
    "nationalities = (fut_players.select('player_id', 'player_name', 'nationality'))\n",
    "\n",
    "# faça um join dos dois DataDrames, mantendo todos os jogadores de the_best e obtendo suas nacionalidades (dica: a chave é o id)\n",
    "the_best_nationality = (the_best\n",
    "                     .join(nationalities,\n",
    "                           on= ['player_id'],\n",
    "                           how=\"inner\"\n",
    "                           )\n",
    "                     )\n",
    "\n",
    "the_best_nationality.display()\n"
   ]
  }
 ],
 "metadata": {
  "application/vnd.databricks.v1+notebook": {
   "computePreferences": null,
   "dashboards": [],
   "environmentMetadata": {
    "base_environment": "",
    "environment_version": "4"
   },
   "inputWidgetPreferences": null,
   "language": "python",
   "notebookMetadata": {
    "pythonIndentUnit": 4
   },
   "notebookName": "exercicio1-2",
   "widgets": {}
  },
  "language_info": {
   "name": "python"
  }
 },
 "nbformat": 4,
 "nbformat_minor": 0
}
