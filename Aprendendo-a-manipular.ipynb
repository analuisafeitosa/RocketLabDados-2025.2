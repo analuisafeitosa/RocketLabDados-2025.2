{
 "cells": [
  {
   "cell_type": "code",
   "execution_count": 0,
   "metadata": {
    "application/vnd.databricks.v1+cell": {
     "cellMetadata": {
      "byteLimit": 2048000,
      "rowLimit": 10000
     },
     "inputWidgets": {},
     "nuid": "0f1e5a0f-2536-43de-96c6-3d16f6841da9",
     "showTitle": false,
     "tableResultSettingsMap": {},
     "title": ""
    }
   },
   "outputs": [],
   "source": [
    "from pyspark.sql import SparkSession\n",
    "from pyspark.sql import functions as F\n",
    "#criando a sessão spark\n",
    "spark = SparkSession.builder.appName(\"RocketLabs\").getOrCreate()\n",
    "\n",
    "#leitura de data frame\n",
    "metal_bands = spark.table(\"workspace.default.metal_bands\")\n",
    "metal_bands.printSchema()\n",
    "\n",
    "display(metal_bands.limit(5))"
   ]
  },
  {
   "cell_type": "code",
   "execution_count": 0,
   "metadata": {
    "application/vnd.databricks.v1+cell": {
     "cellMetadata": {
      "byteLimit": 2048000,
      "rowLimit": 10000
     },
     "inputWidgets": {},
     "nuid": "f4b21187-e87f-4c00-8aed-acc87ea9573f",
     "showTitle": false,
     "tableResultSettingsMap": {},
     "title": ""
    }
   },
   "outputs": [],
   "source": [
    "# ano de formação e país das bandas\n",
    "bands_origin = metal_bands.select('id','band_name','formed','origin')\n",
    "\n",
    "# estilo das bandas\n",
    "bands_style = metal_bands.select('id','band_name','style') # estilo das bandas\n",
    "\n",
    "# bandas que se separaram\n",
    "bands_split = (metal_bands\n",
    "               .select('id','band_name','split')\n",
    "               .where(F.column('split') != \"-\")\n",
    "               )\n",
    "\n",
    "# bandas com mais de 4000 fans\n",
    "bands_4000_fans = (metal_bands\n",
    "                   .select('id','band_name','fans')\n",
    "                   .where(F.column('fans') > 4000)\n",
    "                   )\n",
    "\n",
    "# bandas formadas nos EUA\n",
    "bands_USA = (metal_bands\n",
    "             .select('id','band_name','formed','origin')\n",
    "             .where(F.column('origin') == \"USA\")\n",
    "             )\n",
    "\n",
    "# bandas formadas na Suécia\n",
    "bands_Sweden = (metal_bands\n",
    "                .select('id','band_name','formed','origin')\n",
    "                .where(F.column('origin') == 'Sweden')\n",
    "                )"
   ]
  },
  {
   "cell_type": "code",
   "execution_count": 0,
   "metadata": {
    "application/vnd.databricks.v1+cell": {
     "cellMetadata": {
      "byteLimit": 2048000,
      "rowLimit": 10000
     },
     "inputWidgets": {},
     "nuid": "4282ff35-f08d-483e-a332-b83e71b9423c",
     "showTitle": false,
     "tableResultSettingsMap": {},
     "title": ""
    }
   },
   "outputs": [],
   "source": [
    "origin_split = (bands_origin # o DataFrame da esquerda\n",
    "                .join(bands_split, # o DataFrame da direita\n",
    "                      on=['id', 'band_name'], # baseado em quais valores em comum (chave)\n",
    "                      how='inner' # o tipo de join que queremos fazer\n",
    "                      )\n",
    "                )\n",
    "display(origin_split.limit(5))"
   ]
  },
  {
   "cell_type": "code",
   "execution_count": 0,
   "metadata": {
    "application/vnd.databricks.v1+cell": {
     "cellMetadata": {
      "byteLimit": 2048000,
      "rowLimit": 10000
     },
     "inputWidgets": {},
     "nuid": "9f6edd69-c195-45cb-b923-1901cfe85925",
     "showTitle": false,
     "tableResultSettingsMap": {},
     "title": ""
    }
   },
   "outputs": [],
   "source": [
    "\n",
    "left_origin_split = (bands_origin\n",
    "                     .join(bands_split,\n",
    "                           on= ['id', 'band_name'],\n",
    "                           how=\"left\"\n",
    "                           )\n",
    "                     )\n",
    "display(left_origin_split.limit(5))"
   ]
  },
  {
   "cell_type": "code",
   "execution_count": 0,
   "metadata": {
    "application/vnd.databricks.v1+cell": {
     "cellMetadata": {
      "byteLimit": 2048000,
      "rowLimit": 10000
     },
     "inputWidgets": {},
     "nuid": "224fef5d-e3a3-4900-a640-5883a83a428e",
     "showTitle": false,
     "tableResultSettingsMap": {},
     "title": ""
    }
   },
   "outputs": [],
   "source": [
    "\n",
    "right_origin_split = (bands_origin\n",
    "                     .join(bands_split,\n",
    "                           on= ['id', 'band_name'],\n",
    "                           how=\"right\"\n",
    "                           )\n",
    "                     )\n",
    "display(right_origin_split.limit(5))"
   ]
  },
  {
   "cell_type": "code",
   "execution_count": 0,
   "metadata": {
    "application/vnd.databricks.v1+cell": {
     "cellMetadata": {
      "byteLimit": 2048000,
      "rowLimit": 10000
     },
     "inputWidgets": {},
     "nuid": "5d9b666e-fda4-4318-acd9-369e3917435a",
     "showTitle": false,
     "tableResultSettingsMap": {},
     "title": ""
    }
   },
   "outputs": [],
   "source": [
    "\n",
    "print('Numero de linhas do DataFrame bands_4000_fans:', bands_4000_fans.count())\n",
    "print('Numero de linhas do DataFrame bands_USA:', bands_USA.count())\n",
    "print('----------------------------------------------')\n",
    "\n",
    "outer_origin_split = (bands_4000_fans\n",
    "                     .join(bands_USA,\n",
    "                           on= ['id', 'band_name'],\n",
    "                           how=\"outer\"\n",
    "                           )\n",
    "                     )\n",
    "\n",
    "print('Numero de linhas do DataFrame após Outer entre bands_4000_fans & bands_USA:', outer_origin_split.count())\n",
    "display(outer_origin_split.limit(5))"
   ]
  }
 ],
 "metadata": {
  "application/vnd.databricks.v1+notebook": {
   "computePreferences": null,
   "dashboards": [],
   "environmentMetadata": {
    "base_environment": "",
    "environment_version": "4"
   },
   "inputWidgetPreferences": null,
   "language": "python",
   "notebookMetadata": {
    "pythonIndentUnit": 4
   },
   "notebookName": "Aprendendo-a-manipular",
   "widgets": {}
  },
  "language_info": {
   "name": "python"
  }
 },
 "nbformat": 4,
 "nbformat_minor": 0
}
