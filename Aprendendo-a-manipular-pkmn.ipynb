{
 "cells": [
  {
   "cell_type": "code",
   "execution_count": 0,
   "metadata": {
    "application/vnd.databricks.v1+cell": {
     "cellMetadata": {
      "byteLimit": 2048000,
      "rowLimit": 10000
     },
     "inputWidgets": {},
     "nuid": "b3e300c8-a546-47be-83ab-2f1f2edb3cd8",
     "showTitle": false,
     "tableResultSettingsMap": {},
     "title": ""
    }
   },
   "outputs": [],
   "source": [
    "from pyspark.sql import SparkSession\n",
    "from pyspark.sql import functions as F\n",
    "#criando a sessão spark\n",
    "spark = SparkSession.builder.appName(\"RocketLabs\").getOrCreate()\n",
    "pkmn = spark.table(\"workspace.default.pokemon_data\")\n",
    "\n",
    "display(pkmn.limit(5))"
   ]
  },
  {
   "cell_type": "code",
   "execution_count": 0,
   "metadata": {
    "application/vnd.databricks.v1+cell": {
     "cellMetadata": {
      "byteLimit": 2048000,
      "rowLimit": 10000
     },
     "inputWidgets": {},
     "nuid": "6c408c42-0027-4b6f-a8cb-178f5495b733",
     "showTitle": false,
     "tableResultSettingsMap": {},
     "title": ""
    }
   },
   "outputs": [],
   "source": [
    "# Criando a coluna desejada\n",
    "pkmn = pkmn.withColumn(\"Sum_Attack_Speed\", F.col(\"Attack\") + F.col(\"Speed\"))\n",
    "display(pkmn.limit(5))"
   ]
  },
  {
   "cell_type": "code",
   "execution_count": 0,
   "metadata": {
    "application/vnd.databricks.v1+cell": {
     "cellMetadata": {
      "byteLimit": 2048000,
      "rowLimit": 10000
     },
     "inputWidgets": {},
     "nuid": "edfbc625-970d-4767-99f6-5afb73bc9dc9",
     "showTitle": false,
     "tableResultSettingsMap": {},
     "title": ""
    }
   },
   "outputs": [],
   "source": [
    "# Vamos alterar os casos onde Speed é superior a 100 para Fire\n",
    "pkmn = pkmn.withColumn(\n",
    "    \"Type_1\",\n",
    "    F.when(pkmn[\"Speed\"] > 100, \"Fire\").otherwise(pkmn[\"Type_1\"])\n",
    ")\n",
    "\n"
   ]
  },
  {
   "cell_type": "code",
   "execution_count": 0,
   "metadata": {
    "application/vnd.databricks.v1+cell": {
     "cellMetadata": {
      "byteLimit": 2048000,
      "rowLimit": 10000
     },
     "inputWidgets": {},
     "nuid": "f55b190d-89e0-4451-9f3d-7c51a2d17a10",
     "showTitle": false,
     "tableResultSettingsMap": {},
     "title": ""
    }
   },
   "outputs": [],
   "source": [
    "pkmn = spark.table(\"workspace.default.pokemon_data\")\n",
    "\n",
    "# Renomeando as colunas\n",
    "pkmn = (\n",
    "    pkmn\n",
    "    .withColumnRenamed(\"Type 1\", \"Type_1\")\n",
    "    .withColumnRenamed(\"Type 2\", \"Type_2\")\n",
    "    .withColumnRenamed(\"Sp. Atk\", \"Sp_Atk\")\n",
    "    .withColumnRenamed(\"Sp. Def\", \"Sp_Def\")\n",
    ")\n",
    "\n"
   ]
  },
  {
   "cell_type": "code",
   "execution_count": 0,
   "metadata": {
    "application/vnd.databricks.v1+cell": {
     "cellMetadata": {
      "byteLimit": 2048000,
      "rowLimit": 10000
     },
     "inputWidgets": {},
     "nuid": "09e00b81-0d08-475c-aba3-1ff70cb6878e",
     "showTitle": false,
     "tableResultSettingsMap": {},
     "title": ""
    }
   },
   "outputs": [],
   "source": [
    "pkmn_soma = (pkmn\n",
    "            .groupBy(\"Generation\") # Campo que sera agrupado\n",
    "            .agg(\n",
    "                F.sum(F.col(\"Legendary\").cast(\"int\")) # Converte a coluna \"Legendary\" em inteiro e faz a soma\n",
    "                .alias(\"Qtd_Legendary\") # Nomeando a coluna que receberá o resultado da soma\n",
    "                )\n",
    "            )\n",
    "pkmn_soma.display()"
   ]
  },
  {
   "cell_type": "code",
   "execution_count": 0,
   "metadata": {
    "application/vnd.databricks.v1+cell": {
     "cellMetadata": {
      "byteLimit": 2048000,
      "rowLimit": 10000
     },
     "inputWidgets": {},
     "nuid": "2df7a1fc-2f70-48cc-9ff0-08ba1b8d37d2",
     "showTitle": false,
     "tableResultSettingsMap": {},
     "title": ""
    }
   },
   "outputs": [],
   "source": [
    "pkmn_media = (pkmn\n",
    "                .groupBy(\"Type_1\")\n",
    "                .agg(\n",
    "                    F.mean(\"HP\").alias(\"HP_medio\"),\n",
    "                    F.mean(\"Attack\").alias(\"Attack_medio\"),\n",
    "                    F.mean(\"Defense\").alias(\"Defense_medio\")\n",
    "                    )\n",
    "                )\n",
    "pkmn_media.display()"
   ]
  }
 ],
 "metadata": {
  "application/vnd.databricks.v1+notebook": {
   "computePreferences": null,
   "dashboards": [],
   "environmentMetadata": {
    "base_environment": "",
    "environment_version": "4"
   },
   "inputWidgetPreferences": null,
   "language": "python",
   "notebookMetadata": {
    "pythonIndentUnit": 4
   },
   "notebookName": "Aprendendo-a-manipular-pkmn",
   "widgets": {}
  },
  "language_info": {
   "name": "python"
  }
 },
 "nbformat": 4,
 "nbformat_minor": 0
}
